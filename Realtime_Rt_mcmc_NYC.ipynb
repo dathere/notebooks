{
  "nbformat": 4,
  "nbformat_minor": 0,
  "metadata": {
    "kernelspec": {
      "display_name": "Python 3",
      "language": "python",
      "name": "python3"
    },
    "language_info": {
      "codemirror_mode": {
        "name": "ipython",
        "version": 3
      },
      "file_extension": ".py",
      "mimetype": "text/x-python",
      "name": "python",
      "nbconvert_exporter": "python",
      "pygments_lexer": "ipython3",
      "version": "3.7.6"
    },
    "colab": {
      "name": "Realtime Rt mcmc NYC",
      "provenance": [],
      "collapsed_sections": [],
      "toc_visible": true,
      "include_colab_link": true
    }
  },
  "cells": [
    {
      "cell_type": "markdown",
      "metadata": {
        "id": "view-in-github",
        "colab_type": "text"
      },
      "source": [
        "<a href=\"https://colab.research.google.com/github/dathere/notebooks/blob/master/Realtime_Rt_mcmc_NYC.ipynb\" target=\"_parent\"><img src=\"https://colab.research.google.com/assets/colab-badge.svg\" alt=\"Open In Colab\"/></a>"
      ]
    },
    {
      "cell_type": "markdown",
      "metadata": {
        "id": "9peeFiqbs4rd",
        "colab_type": "text"
      },
      "source": [
        "# Estimating COVID-19's $R_t$ in Real-Time for all US counties\n",
        "\n",
        "Modified version of the work by [Kevin Systrom](https://github.com/k-sys/covid-19) to estimate $R_t$ for all US states based on the [NYT](https://github.com/nytimes/covid-19-data) county level data"
      ]
    },
    {
      "cell_type": "code",
      "metadata": {
        "id": "oheBEDEZ2Ge0",
        "colab_type": "code",
        "outputId": "d833a17d-eaf0-48d6-b3ea-8b25745f6c01",
        "colab": {
          "base_uri": "https://localhost:8080/",
          "height": 665
        }
      },
      "source": [
        "!pip install pymc3==3.8"
      ],
      "execution_count": 0,
      "outputs": [
        {
          "output_type": "stream",
          "text": [
            "Collecting pymc3==3.8\n",
            "\u001b[?25l  Downloading https://files.pythonhosted.org/packages/32/19/6c94cbadb287745ac38ff1197b9fadd66500b6b9c468e79099b110c6a2e9/pymc3-3.8-py3-none-any.whl (908kB)\n",
            "\u001b[K     |████████████████████████████████| 911kB 2.8MB/s \n",
            "\u001b[?25hRequirement already satisfied: theano>=1.0.4 in /usr/local/lib/python3.6/dist-packages (from pymc3==3.8) (1.0.4)\n",
            "Requirement already satisfied: patsy>=0.4.0 in /usr/local/lib/python3.6/dist-packages (from pymc3==3.8) (0.5.1)\n",
            "Requirement already satisfied: h5py>=2.7.0 in /usr/local/lib/python3.6/dist-packages (from pymc3==3.8) (2.10.0)\n",
            "Collecting arviz>=0.4.1\n",
            "\u001b[?25l  Downloading https://files.pythonhosted.org/packages/6c/23/73ae3b88a6837fa5a162d984acabfd2e75dc847ed67e5690aa44d02f491a/arviz-0.7.0-py3-none-any.whl (1.5MB)\n",
            "\u001b[K     |████████████████████████████████| 1.5MB 47.3MB/s \n",
            "\u001b[?25hRequirement already satisfied: scipy>=0.18.1 in /usr/local/lib/python3.6/dist-packages (from pymc3==3.8) (1.4.1)\n",
            "Requirement already satisfied: pandas>=0.18.0 in /usr/local/lib/python3.6/dist-packages (from pymc3==3.8) (1.0.3)\n",
            "Requirement already satisfied: tqdm>=4.8.4 in /usr/local/lib/python3.6/dist-packages (from pymc3==3.8) (4.41.1)\n",
            "Requirement already satisfied: numpy>=1.13.0 in /usr/local/lib/python3.6/dist-packages (from pymc3==3.8) (1.18.4)\n",
            "Requirement already satisfied: six>=1.9.0 in /usr/local/lib/python3.6/dist-packages (from theano>=1.0.4->pymc3==3.8) (1.12.0)\n",
            "Requirement already satisfied: packaging in /usr/local/lib/python3.6/dist-packages (from arviz>=0.4.1->pymc3==3.8) (20.3)\n",
            "Requirement already satisfied: matplotlib>=3.0 in /usr/local/lib/python3.6/dist-packages (from arviz>=0.4.1->pymc3==3.8) (3.2.1)\n",
            "Collecting netcdf4\n",
            "\u001b[?25l  Downloading https://files.pythonhosted.org/packages/35/4f/d49fe0c65dea4d2ebfdc602d3e3d2a45a172255c151f4497c43f6d94a5f6/netCDF4-1.5.3-cp36-cp36m-manylinux1_x86_64.whl (4.1MB)\n",
            "\u001b[K     |████████████████████████████████| 4.1MB 34.9MB/s \n",
            "\u001b[?25hRequirement already satisfied: xarray>=0.11 in /usr/local/lib/python3.6/dist-packages (from arviz>=0.4.1->pymc3==3.8) (0.15.1)\n",
            "Requirement already satisfied: python-dateutil>=2.6.1 in /usr/local/lib/python3.6/dist-packages (from pandas>=0.18.0->pymc3==3.8) (2.8.1)\n",
            "Requirement already satisfied: pytz>=2017.2 in /usr/local/lib/python3.6/dist-packages (from pandas>=0.18.0->pymc3==3.8) (2018.9)\n",
            "Requirement already satisfied: pyparsing>=2.0.2 in /usr/local/lib/python3.6/dist-packages (from packaging->arviz>=0.4.1->pymc3==3.8) (2.4.7)\n",
            "Requirement already satisfied: cycler>=0.10 in /usr/local/lib/python3.6/dist-packages (from matplotlib>=3.0->arviz>=0.4.1->pymc3==3.8) (0.10.0)\n",
            "Requirement already satisfied: kiwisolver>=1.0.1 in /usr/local/lib/python3.6/dist-packages (from matplotlib>=3.0->arviz>=0.4.1->pymc3==3.8) (1.2.0)\n",
            "Collecting cftime\n",
            "\u001b[?25l  Downloading https://files.pythonhosted.org/packages/0f/5e/ee154e2aabb0beea0c4c7dc3d93c6f64f96a2a2019bbd05afc905439d042/cftime-1.1.3-cp36-cp36m-manylinux1_x86_64.whl (322kB)\n",
            "\u001b[K     |████████████████████████████████| 327kB 48.5MB/s \n",
            "\u001b[?25hRequirement already satisfied: setuptools>=41.2 in /usr/local/lib/python3.6/dist-packages (from xarray>=0.11->arviz>=0.4.1->pymc3==3.8) (46.3.0)\n",
            "Installing collected packages: cftime, netcdf4, arviz, pymc3\n",
            "  Found existing installation: pymc3 3.7\n",
            "    Uninstalling pymc3-3.7:\n",
            "      Successfully uninstalled pymc3-3.7\n",
            "Successfully installed arviz-0.7.0 cftime-1.1.3 netcdf4-1.5.3 pymc3-3.8\n"
          ],
          "name": "stdout"
        }
      ]
    },
    {
      "cell_type": "code",
      "metadata": {
        "id": "eAoUzLNzs4re",
        "colab_type": "code",
        "colab": {}
      },
      "source": [
        "import warnings\n",
        "warnings.simplefilter(action='ignore', category=FutureWarning)\n",
        "\n",
        "import os\n",
        "import requests\n",
        "import pymc3 as pm\n",
        "import pandas as pd\n",
        "import numpy as np\n",
        "import theano\n",
        "import theano.tensor as tt\n",
        "\n",
        "from matplotlib import pyplot as plt\n",
        "from matplotlib import dates as mdates\n",
        "from matplotlib import ticker\n",
        "\n",
        "from datetime import date\n",
        "from datetime import datetime\n",
        "\n",
        "from IPython.display import clear_output\n",
        "\n",
        "%config InlineBackend.figure_format = 'retina'"
      ],
      "execution_count": 0,
      "outputs": []
    },
    {
      "cell_type": "markdown",
      "metadata": {
        "id": "okr0k_Wws4rj",
        "colab_type": "text"
      },
      "source": [
        "## Load COUNTY Information"
      ]
    },
    {
      "cell_type": "code",
      "metadata": {
        "id": "mq1FTm6Os4rk",
        "colab_type": "code",
        "outputId": "e2ef1779-9ca6-4a39-83cd-c8b8a9c8e9a7",
        "colab": {
          "base_uri": "https://localhost:8080/",
          "height": 416
        }
      },
      "source": [
        "# Import NYT data\n",
        "url = 'https://raw.githubusercontent.com/nytimes/covid-19-data/master/us-counties.csv'\n",
        "counties = pd.read_csv(url,parse_dates=['date']).sort_index()\n",
        "\n",
        "counties"
      ],
      "execution_count": 0,
      "outputs": [
        {
          "output_type": "execute_result",
          "data": {
            "text/html": [
              "<div>\n",
              "<style scoped>\n",
              "    .dataframe tbody tr th:only-of-type {\n",
              "        vertical-align: middle;\n",
              "    }\n",
              "\n",
              "    .dataframe tbody tr th {\n",
              "        vertical-align: top;\n",
              "    }\n",
              "\n",
              "    .dataframe thead th {\n",
              "        text-align: right;\n",
              "    }\n",
              "</style>\n",
              "<table border=\"1\" class=\"dataframe\">\n",
              "  <thead>\n",
              "    <tr style=\"text-align: right;\">\n",
              "      <th></th>\n",
              "      <th>date</th>\n",
              "      <th>county</th>\n",
              "      <th>state</th>\n",
              "      <th>fips</th>\n",
              "      <th>cases</th>\n",
              "      <th>deaths</th>\n",
              "    </tr>\n",
              "  </thead>\n",
              "  <tbody>\n",
              "    <tr>\n",
              "      <th>0</th>\n",
              "      <td>2020-01-21</td>\n",
              "      <td>Snohomish</td>\n",
              "      <td>Washington</td>\n",
              "      <td>53061.0</td>\n",
              "      <td>1</td>\n",
              "      <td>0</td>\n",
              "    </tr>\n",
              "    <tr>\n",
              "      <th>1</th>\n",
              "      <td>2020-01-22</td>\n",
              "      <td>Snohomish</td>\n",
              "      <td>Washington</td>\n",
              "      <td>53061.0</td>\n",
              "      <td>1</td>\n",
              "      <td>0</td>\n",
              "    </tr>\n",
              "    <tr>\n",
              "      <th>2</th>\n",
              "      <td>2020-01-23</td>\n",
              "      <td>Snohomish</td>\n",
              "      <td>Washington</td>\n",
              "      <td>53061.0</td>\n",
              "      <td>1</td>\n",
              "      <td>0</td>\n",
              "    </tr>\n",
              "    <tr>\n",
              "      <th>3</th>\n",
              "      <td>2020-01-24</td>\n",
              "      <td>Cook</td>\n",
              "      <td>Illinois</td>\n",
              "      <td>17031.0</td>\n",
              "      <td>1</td>\n",
              "      <td>0</td>\n",
              "    </tr>\n",
              "    <tr>\n",
              "      <th>4</th>\n",
              "      <td>2020-01-24</td>\n",
              "      <td>Snohomish</td>\n",
              "      <td>Washington</td>\n",
              "      <td>53061.0</td>\n",
              "      <td>1</td>\n",
              "      <td>0</td>\n",
              "    </tr>\n",
              "    <tr>\n",
              "      <th>...</th>\n",
              "      <td>...</td>\n",
              "      <td>...</td>\n",
              "      <td>...</td>\n",
              "      <td>...</td>\n",
              "      <td>...</td>\n",
              "      <td>...</td>\n",
              "    </tr>\n",
              "    <tr>\n",
              "      <th>147240</th>\n",
              "      <td>2020-05-15</td>\n",
              "      <td>Sublette</td>\n",
              "      <td>Wyoming</td>\n",
              "      <td>56035.0</td>\n",
              "      <td>3</td>\n",
              "      <td>0</td>\n",
              "    </tr>\n",
              "    <tr>\n",
              "      <th>147241</th>\n",
              "      <td>2020-05-15</td>\n",
              "      <td>Sweetwater</td>\n",
              "      <td>Wyoming</td>\n",
              "      <td>56037.0</td>\n",
              "      <td>22</td>\n",
              "      <td>0</td>\n",
              "    </tr>\n",
              "    <tr>\n",
              "      <th>147242</th>\n",
              "      <td>2020-05-15</td>\n",
              "      <td>Teton</td>\n",
              "      <td>Wyoming</td>\n",
              "      <td>56039.0</td>\n",
              "      <td>99</td>\n",
              "      <td>1</td>\n",
              "    </tr>\n",
              "    <tr>\n",
              "      <th>147243</th>\n",
              "      <td>2020-05-15</td>\n",
              "      <td>Uinta</td>\n",
              "      <td>Wyoming</td>\n",
              "      <td>56041.0</td>\n",
              "      <td>9</td>\n",
              "      <td>0</td>\n",
              "    </tr>\n",
              "    <tr>\n",
              "      <th>147244</th>\n",
              "      <td>2020-05-15</td>\n",
              "      <td>Washakie</td>\n",
              "      <td>Wyoming</td>\n",
              "      <td>56043.0</td>\n",
              "      <td>8</td>\n",
              "      <td>0</td>\n",
              "    </tr>\n",
              "  </tbody>\n",
              "</table>\n",
              "<p>147245 rows × 6 columns</p>\n",
              "</div>"
            ],
            "text/plain": [
              "             date      county       state     fips  cases  deaths\n",
              "0      2020-01-21   Snohomish  Washington  53061.0      1       0\n",
              "1      2020-01-22   Snohomish  Washington  53061.0      1       0\n",
              "2      2020-01-23   Snohomish  Washington  53061.0      1       0\n",
              "3      2020-01-24        Cook    Illinois  17031.0      1       0\n",
              "4      2020-01-24   Snohomish  Washington  53061.0      1       0\n",
              "...           ...         ...         ...      ...    ...     ...\n",
              "147240 2020-05-15    Sublette     Wyoming  56035.0      3       0\n",
              "147241 2020-05-15  Sweetwater     Wyoming  56037.0     22       0\n",
              "147242 2020-05-15       Teton     Wyoming  56039.0     99       1\n",
              "147243 2020-05-15       Uinta     Wyoming  56041.0      9       0\n",
              "147244 2020-05-15    Washakie     Wyoming  56043.0      8       0\n",
              "\n",
              "[147245 rows x 6 columns]"
            ]
          },
          "metadata": {
            "tags": []
          },
          "execution_count": 3
        }
      ]
    },
    {
      "cell_type": "code",
      "metadata": {
        "id": "lFRLgMBX9Wsz",
        "colab_type": "code",
        "outputId": "96ca968c-cd0c-4337-a59d-a5d4733c70fb",
        "colab": {
          "base_uri": "https://localhost:8080/",
          "height": 146
        }
      },
      "source": [
        "#counties[counties.county != 'Unknown']\n",
        "counties=counties[counties.county != 'Unknown']\n",
        "counties.insert(0, 'key', counties['state'] + '_' + counties['county'])\n",
        "counties.set_index(['key', 'date'],inplace=True)\n",
        "\n",
        "# Example\n",
        "#print(counties[counties['state'] == \"Maine\"]['county'].unique())\n",
        "print(counties.head())"
      ],
      "execution_count": 0,
      "outputs": [
        {
          "output_type": "stream",
          "text": [
            "                                    county       state     fips  cases  deaths\n",
            "key                  date                                                     \n",
            "Washington_Snohomish 2020-01-21  Snohomish  Washington  53061.0      1       0\n",
            "                     2020-01-22  Snohomish  Washington  53061.0      1       0\n",
            "                     2020-01-23  Snohomish  Washington  53061.0      1       0\n",
            "Illinois_Cook        2020-01-24       Cook    Illinois  17031.0      1       0\n",
            "Washington_Snohomish 2020-01-24  Snohomish  Washington  53061.0      1       0\n"
          ],
          "name": "stdout"
        }
      ]
    },
    {
      "cell_type": "code",
      "metadata": {
        "id": "Lmt8OYZ261dK",
        "colab_type": "code",
        "outputId": "1a6a47c8-6c5c-4621-f29d-d88a60d93539",
        "colab": {
          "base_uri": "https://localhost:8080/",
          "height": 416
        }
      },
      "source": [
        "# Import USA Facts data\n",
        "url = \"https://usafactsstatic.blob.core.windows.net/public/data/covid-19/covid_confirmed_usafacts.csv\"\n",
        "confirmed_df=pd.read_csv(url)#,parse_dates=['date']).sort_index()\n",
        "\n",
        "#reshape USAFacts feed to expected format\n",
        "counties_df = confirmed_df\n",
        "\n",
        "#first, create a pseudo state called \"NYC\"\n",
        "counties_df.loc[(confirmed_df['countyFIPS'].isin([36005, 36061, 36081, 36085, 36047])), 'State'] = 'NYC'\n",
        "counties_df.loc[confirmed_df['County Name'] == 'New York City Unallocated/Probable', 'State'] = 'NYC'\n",
        "\n",
        "counties_df = counties_df.melt(id_vars=[\"countyFIPS\", \"County Name\", \"State\", \"stateFIPS\"], var_name=\"date\", value_name=\"cases\")\n",
        "\n",
        "counties_df=counties_df.drop(columns=['countyFIPS', 'stateFIPS'])\n",
        "counties_df.rename(columns={'State':'state', 'County Name':'county'}, inplace=True)\n",
        "\n",
        "# create county aggregations so we can compute statewide Rt\n",
        "county_agg = counties_df.groupby(['state','date']).agg({'cases':['sum']})\n",
        "county_agg.columns = ['cases']\n",
        "county_agg = county_agg.reset_index()\n",
        "county_agg.insert(0, 'county', county_agg['state'])\n",
        "\n",
        "county_agg\n",
        "\n",
        "# merge state_aggregations with counties \n",
        "counties_df = counties_df.append(county_agg, ignore_index=True)\n",
        "counties_df['date'] = pd.to_datetime(counties_df['date'])\n",
        "\n",
        "# after aggregating statewide cases, remove the Unallocated entries\n",
        "counties_df.drop(counties_df[counties_df.county.str.contains('Unallocated') ].index, inplace=True)\n",
        "#counties_df.set_index(['county','date'], inplace=True)\n",
        "\n",
        "counties_df\n"
      ],
      "execution_count": 0,
      "outputs": [
        {
          "output_type": "execute_result",
          "data": {
            "text/html": [
              "<div>\n",
              "<style scoped>\n",
              "    .dataframe tbody tr th:only-of-type {\n",
              "        vertical-align: middle;\n",
              "    }\n",
              "\n",
              "    .dataframe tbody tr th {\n",
              "        vertical-align: top;\n",
              "    }\n",
              "\n",
              "    .dataframe thead th {\n",
              "        text-align: right;\n",
              "    }\n",
              "</style>\n",
              "<table border=\"1\" class=\"dataframe\">\n",
              "  <thead>\n",
              "    <tr style=\"text-align: right;\">\n",
              "      <th></th>\n",
              "      <th>county</th>\n",
              "      <th>state</th>\n",
              "      <th>date</th>\n",
              "      <th>cases</th>\n",
              "    </tr>\n",
              "  </thead>\n",
              "  <tbody>\n",
              "    <tr>\n",
              "      <th>1</th>\n",
              "      <td>Autauga County</td>\n",
              "      <td>AL</td>\n",
              "      <td>2020-01-22</td>\n",
              "      <td>0</td>\n",
              "    </tr>\n",
              "    <tr>\n",
              "      <th>2</th>\n",
              "      <td>Baldwin County</td>\n",
              "      <td>AL</td>\n",
              "      <td>2020-01-22</td>\n",
              "      <td>0</td>\n",
              "    </tr>\n",
              "    <tr>\n",
              "      <th>3</th>\n",
              "      <td>Barbour County</td>\n",
              "      <td>AL</td>\n",
              "      <td>2020-01-22</td>\n",
              "      <td>0</td>\n",
              "    </tr>\n",
              "    <tr>\n",
              "      <th>4</th>\n",
              "      <td>Bibb County</td>\n",
              "      <td>AL</td>\n",
              "      <td>2020-01-22</td>\n",
              "      <td>0</td>\n",
              "    </tr>\n",
              "    <tr>\n",
              "      <th>5</th>\n",
              "      <td>Blount County</td>\n",
              "      <td>AL</td>\n",
              "      <td>2020-01-22</td>\n",
              "      <td>0</td>\n",
              "    </tr>\n",
              "    <tr>\n",
              "      <th>...</th>\n",
              "      <td>...</td>\n",
              "      <td>...</td>\n",
              "      <td>...</td>\n",
              "      <td>...</td>\n",
              "    </tr>\n",
              "    <tr>\n",
              "      <th>376647</th>\n",
              "      <td>WY</td>\n",
              "      <td>WY</td>\n",
              "      <td>2020-05-05</td>\n",
              "      <td>452</td>\n",
              "    </tr>\n",
              "    <tr>\n",
              "      <th>376648</th>\n",
              "      <td>WY</td>\n",
              "      <td>WY</td>\n",
              "      <td>2020-05-06</td>\n",
              "      <td>479</td>\n",
              "    </tr>\n",
              "    <tr>\n",
              "      <th>376649</th>\n",
              "      <td>WY</td>\n",
              "      <td>WY</td>\n",
              "      <td>2020-05-07</td>\n",
              "      <td>483</td>\n",
              "    </tr>\n",
              "    <tr>\n",
              "      <th>376650</th>\n",
              "      <td>WY</td>\n",
              "      <td>WY</td>\n",
              "      <td>2020-05-08</td>\n",
              "      <td>490</td>\n",
              "    </tr>\n",
              "    <tr>\n",
              "      <th>376651</th>\n",
              "      <td>WY</td>\n",
              "      <td>WY</td>\n",
              "      <td>2020-05-09</td>\n",
              "      <td>495</td>\n",
              "    </tr>\n",
              "  </tbody>\n",
              "</table>\n",
              "<p>370736 rows × 4 columns</p>\n",
              "</div>"
            ],
            "text/plain": [
              "                county state       date  cases\n",
              "1       Autauga County    AL 2020-01-22      0\n",
              "2       Baldwin County    AL 2020-01-22      0\n",
              "3       Barbour County    AL 2020-01-22      0\n",
              "4          Bibb County    AL 2020-01-22      0\n",
              "5        Blount County    AL 2020-01-22      0\n",
              "...                ...   ...        ...    ...\n",
              "376647              WY    WY 2020-05-05    452\n",
              "376648              WY    WY 2020-05-06    479\n",
              "376649              WY    WY 2020-05-07    483\n",
              "376650              WY    WY 2020-05-08    490\n",
              "376651              WY    WY 2020-05-09    495\n",
              "\n",
              "[370736 rows x 4 columns]"
            ]
          },
          "metadata": {
            "tags": []
          },
          "execution_count": 5
        }
      ]
    },
    {
      "cell_type": "code",
      "metadata": {
        "id": "RauxtIzvdcOH",
        "colab_type": "code",
        "outputId": "b60072cc-7f15-438f-d223-9206c8a5c573",
        "colab": {
          "base_uri": "https://localhost:8080/",
          "height": 148
        }
      },
      "source": [
        "# Merge New York City data from NYT feed to USA Facts county feed to get best of both worlds\n",
        "\n",
        "nycnyt = counties[counties['county'] == 'New York City']\n",
        "del nycnyt['fips']\n",
        "del nycnyt['deaths']\n",
        "nycnyt['state'] = 'NYC'\n",
        "nycnyt.reset_index(inplace=True)\n",
        "del nycnyt['key']\n",
        "\n",
        "nycnyt\n",
        "\n",
        "counties_df = pd.concat([counties_df, nycnyt])"
      ],
      "execution_count": 0,
      "outputs": [
        {
          "output_type": "stream",
          "text": [
            "/usr/local/lib/python3.6/dist-packages/ipykernel_launcher.py:6: SettingWithCopyWarning: \n",
            "A value is trying to be set on a copy of a slice from a DataFrame.\n",
            "Try using .loc[row_indexer,col_indexer] = value instead\n",
            "\n",
            "See the caveats in the documentation: https://pandas.pydata.org/pandas-docs/stable/user_guide/indexing.html#returning-a-view-versus-a-copy\n",
            "  \n"
          ],
          "name": "stderr"
        }
      ]
    },
    {
      "cell_type": "code",
      "metadata": {
        "id": "ckPaUVLg8eVI",
        "colab_type": "code",
        "outputId": "d1b35a2d-9349-444b-f1db-6d00d251e715",
        "colab": {
          "base_uri": "https://localhost:8080/",
          "height": 447
        }
      },
      "source": [
        "\n",
        "counties_df=counties_df[counties_df.county != 'Unknown']\n",
        "counties_df.insert(0, 'key', counties_df['state'] + '_' + counties_df['county'])\n",
        "counties_df.set_index(['key', 'date'],inplace=True)\n",
        "\n",
        "counties_df"
      ],
      "execution_count": 0,
      "outputs": [
        {
          "output_type": "execute_result",
          "data": {
            "text/html": [
              "<div>\n",
              "<style scoped>\n",
              "    .dataframe tbody tr th:only-of-type {\n",
              "        vertical-align: middle;\n",
              "    }\n",
              "\n",
              "    .dataframe tbody tr th {\n",
              "        vertical-align: top;\n",
              "    }\n",
              "\n",
              "    .dataframe thead th {\n",
              "        text-align: right;\n",
              "    }\n",
              "</style>\n",
              "<table border=\"1\" class=\"dataframe\">\n",
              "  <thead>\n",
              "    <tr style=\"text-align: right;\">\n",
              "      <th></th>\n",
              "      <th></th>\n",
              "      <th>county</th>\n",
              "      <th>state</th>\n",
              "      <th>cases</th>\n",
              "    </tr>\n",
              "    <tr>\n",
              "      <th>key</th>\n",
              "      <th>date</th>\n",
              "      <th></th>\n",
              "      <th></th>\n",
              "      <th></th>\n",
              "    </tr>\n",
              "  </thead>\n",
              "  <tbody>\n",
              "    <tr>\n",
              "      <th>AL_Autauga County</th>\n",
              "      <th>2020-01-22</th>\n",
              "      <td>Autauga County</td>\n",
              "      <td>AL</td>\n",
              "      <td>0</td>\n",
              "    </tr>\n",
              "    <tr>\n",
              "      <th>AL_Baldwin County</th>\n",
              "      <th>2020-01-22</th>\n",
              "      <td>Baldwin County</td>\n",
              "      <td>AL</td>\n",
              "      <td>0</td>\n",
              "    </tr>\n",
              "    <tr>\n",
              "      <th>AL_Barbour County</th>\n",
              "      <th>2020-01-22</th>\n",
              "      <td>Barbour County</td>\n",
              "      <td>AL</td>\n",
              "      <td>0</td>\n",
              "    </tr>\n",
              "    <tr>\n",
              "      <th>AL_Bibb County</th>\n",
              "      <th>2020-01-22</th>\n",
              "      <td>Bibb County</td>\n",
              "      <td>AL</td>\n",
              "      <td>0</td>\n",
              "    </tr>\n",
              "    <tr>\n",
              "      <th>AL_Blount County</th>\n",
              "      <th>2020-01-22</th>\n",
              "      <td>Blount County</td>\n",
              "      <td>AL</td>\n",
              "      <td>0</td>\n",
              "    </tr>\n",
              "    <tr>\n",
              "      <th>...</th>\n",
              "      <th>...</th>\n",
              "      <td>...</td>\n",
              "      <td>...</td>\n",
              "      <td>...</td>\n",
              "    </tr>\n",
              "    <tr>\n",
              "      <th rowspan=\"5\" valign=\"top\">NYC_New York City</th>\n",
              "      <th>2020-05-11</th>\n",
              "      <td>New York City</td>\n",
              "      <td>NYC</td>\n",
              "      <td>190546</td>\n",
              "    </tr>\n",
              "    <tr>\n",
              "      <th>2020-05-12</th>\n",
              "      <td>New York City</td>\n",
              "      <td>NYC</td>\n",
              "      <td>191320</td>\n",
              "    </tr>\n",
              "    <tr>\n",
              "      <th>2020-05-13</th>\n",
              "      <td>New York City</td>\n",
              "      <td>NYC</td>\n",
              "      <td>192394</td>\n",
              "    </tr>\n",
              "    <tr>\n",
              "      <th>2020-05-14</th>\n",
              "      <td>New York City</td>\n",
              "      <td>NYC</td>\n",
              "      <td>193663</td>\n",
              "    </tr>\n",
              "    <tr>\n",
              "      <th>2020-05-15</th>\n",
              "      <td>New York City</td>\n",
              "      <td>NYC</td>\n",
              "      <td>195472</td>\n",
              "    </tr>\n",
              "  </tbody>\n",
              "</table>\n",
              "<p>370812 rows × 3 columns</p>\n",
              "</div>"
            ],
            "text/plain": [
              "                                      county state   cases\n",
              "key               date                                    \n",
              "AL_Autauga County 2020-01-22  Autauga County    AL       0\n",
              "AL_Baldwin County 2020-01-22  Baldwin County    AL       0\n",
              "AL_Barbour County 2020-01-22  Barbour County    AL       0\n",
              "AL_Bibb County    2020-01-22     Bibb County    AL       0\n",
              "AL_Blount County  2020-01-22   Blount County    AL       0\n",
              "...                                      ...   ...     ...\n",
              "NYC_New York City 2020-05-11   New York City   NYC  190546\n",
              "                  2020-05-12   New York City   NYC  191320\n",
              "                  2020-05-13   New York City   NYC  192394\n",
              "                  2020-05-14   New York City   NYC  193663\n",
              "                  2020-05-15   New York City   NYC  195472\n",
              "\n",
              "[370812 rows x 3 columns]"
            ]
          },
          "metadata": {
            "tags": []
          },
          "execution_count": 7
        }
      ]
    },
    {
      "cell_type": "code",
      "metadata": {
        "id": "rBICrf5J-9X1",
        "colab_type": "code",
        "colab": {}
      },
      "source": [
        "counties = counties_df"
      ],
      "execution_count": 0,
      "outputs": []
    },
    {
      "cell_type": "markdown",
      "metadata": {
        "id": "EiP9UemSs4rq",
        "colab_type": "text"
      },
      "source": [
        "## Load Patient Information\n",
        "#### Download\n",
        "~100mb download (be ... patient!)"
      ]
    },
    {
      "cell_type": "code",
      "metadata": {
        "id": "s3QvpnHFs4rq",
        "colab_type": "code",
        "outputId": "43adf4ea-5b9b-46ce-a2cc-b84b77e8fac2",
        "colab": {
          "base_uri": "https://localhost:8080/",
          "height": 35
        }
      },
      "source": [
        "def download_file(url, local_filename):\n",
        "    \"\"\"From https://stackoverflow.com/questions/16694907/\"\"\"\n",
        "    with requests.get(url, stream=True) as r:\n",
        "        r.raise_for_status()\n",
        "        with open(local_filename, 'wb') as f:\n",
        "            for chunk in r.iter_content(chunk_size=8192): \n",
        "                if chunk: # filter out keep-alive new chunks\n",
        "                    f.write(chunk)\n",
        "    return local_filename\n",
        "\n",
        "\n",
        "#URL = \"https://raw.githubusercontent.com/beoutbreakprepared/nCoV2019/master/latest_data/latestdata.csv\"\n",
        "URL = \"https://github.com/beoutbreakprepared/nCoV2019/raw/master/latest_data/latestdata.tar.gz\"\n",
        "\n",
        "LINELIST_PATH = 'data/linelist.csv.gz'\n",
        "\n",
        "os.makedirs(os.path.dirname(LINELIST_PATH), exist_ok=True)\n",
        "\n",
        "if not os.path.exists(LINELIST_PATH):\n",
        "    print('Downloading file, this will take a while ~100mb')\n",
        "    try:\n",
        "        download_file(URL, LINELIST_PATH)\n",
        "        clear_output(wait=True)\n",
        "        print('Done downloading.')\n",
        "    except:\n",
        "        print('Something went wrong. Try again.')\n",
        "else:\n",
        "    print('Already downloaded CSV')"
      ],
      "execution_count": 0,
      "outputs": [
        {
          "output_type": "stream",
          "text": [
            "Done downloading.\n"
          ],
          "name": "stdout"
        }
      ]
    },
    {
      "cell_type": "code",
      "metadata": {
        "id": "iA99CcJ6gXX5",
        "colab_type": "code",
        "colab": {}
      },
      "source": [
        "#unzip file\n",
        "\n",
        "import gzip\n",
        "import shutil\n",
        "with gzip.open(LINELIST_PATH, 'rb') as f_in:\n",
        "    with open('data/linelist.csv', 'wb') as f_out:\n",
        "        shutil.copyfileobj(f_in, f_out)"
      ],
      "execution_count": 0,
      "outputs": []
    },
    {
      "cell_type": "markdown",
      "metadata": {
        "id": "sWGsUAkos4rv",
        "colab_type": "text"
      },
      "source": [
        "#### Parse & Clean Patient Info"
      ]
    },
    {
      "cell_type": "code",
      "metadata": {
        "id": "7nx8pWkAs4rw",
        "colab_type": "code",
        "colab": {}
      },
      "source": [
        "# Load the patient CSV\n",
        "patients = pd.read_csv(\n",
        "    'data/linelist.csv',\n",
        "    parse_dates=False,\n",
        "    usecols=[\n",
        "        'date_confirmation',\n",
        "        'date_onset_symptoms'],\n",
        "    low_memory=False)\n",
        "\n",
        "patients.columns = ['Onset', 'Confirmed']\n",
        "# colnames renamed ~05-07. rename back for code below to work\n",
        "#patients.columns =  ['date_confirmation', 'date_onset_symptoms']\n",
        "\n",
        "# There's an errant reversed date\n",
        "patients = patients.replace('01.31.2020', '31.01.2020')\n",
        "\n",
        "# Only keep if both values are present\n",
        "patients = patients.dropna()\n",
        "\n",
        "# Must have strings that look like individual dates\n",
        "# \"2020.03.09\" is 10 chars long\n",
        "is_ten_char = lambda x: x.str.len().eq(10)\n",
        "patients = patients[is_ten_char(patients.Confirmed) & \n",
        "                    is_ten_char(patients.Onset)]\n",
        "\n",
        "# Convert both to datetimes\n",
        "patients.Confirmed = pd.to_datetime(\n",
        "    patients.Confirmed, format='%d.%m.%Y')\n",
        "patients.Onset = pd.to_datetime(\n",
        "    patients.Onset, format='%d.%m.%Y')\n",
        "\n",
        "# Only keep records where confirmed > onset\n",
        "patients = patients[patients.Confirmed >= patients.Onset]"
      ],
      "execution_count": 0,
      "outputs": []
    },
    {
      "cell_type": "markdown",
      "metadata": {
        "id": "P7dcv1c2s4r0",
        "colab_type": "text"
      },
      "source": [
        "#### Show Relationship between Onset of Symptoms and Confirmation"
      ]
    },
    {
      "cell_type": "code",
      "metadata": {
        "id": "LVcDUaE4s4r1",
        "colab_type": "code",
        "outputId": "8032e078-66b7-42e8-b78f-065fccbfe362",
        "colab": {
          "base_uri": "https://localhost:8080/",
          "height": 403
        }
      },
      "source": [
        "ax = patients.plot.scatter(\n",
        "    title='Onset vs. Confirmed Dates - COVID19',\n",
        "    x='Onset',\n",
        "    y='Confirmed',\n",
        "    alpha=.1,\n",
        "    lw=0,\n",
        "    s=10,\n",
        "    figsize=(6,6))\n",
        "\n",
        "formatter = mdates.DateFormatter('%m/%d')\n",
        "locator = mdates.WeekdayLocator(interval=2)\n",
        "\n",
        "for axis in [ax.xaxis, ax.yaxis]:\n",
        "    axis.set_major_formatter(formatter)\n",
        "    axis.set_major_locator(locator)"
      ],
      "execution_count": 0,
      "outputs": [
        {
          "output_type": "display_data",
          "data": {
            "image/png": "[encoded data removed]",
            "text/plain": [
              "<Figure size 432x432 with 1 Axes>"
            ]
          },
          "metadata": {
            "tags": [],
            "image/png": {
              "width": 410,
              "height": 386
            },
            "needs_background": "light"
          }
        }
      ]
    },
    {
      "cell_type": "markdown",
      "metadata": {
        "id": "Qe7PlPu7s4r5",
        "colab_type": "text"
      },
      "source": [
        "#### Calculate the Probability Distribution of Delay"
      ]
    },
    {
      "cell_type": "code",
      "metadata": {
        "id": "_GEi9EbEs4r6",
        "colab_type": "code",
        "outputId": "34a5a98a-cb4d-4fb8-8d4c-fc973a5dfca8",
        "colab": {
          "base_uri": "https://localhost:8080/",
          "height": 239
        }
      },
      "source": [
        "# Calculate the delta in days between onset and confirmation\n",
        "delay = (patients.Confirmed - patients.Onset).dt.days\n",
        "\n",
        "# Convert samples to an empirical distribution\n",
        "p_delay = delay.value_counts().sort_index()\n",
        "new_range = np.arange(0, p_delay.index.max()+1)\n",
        "p_delay = p_delay.reindex(new_range, fill_value=0)\n",
        "p_delay /= p_delay.sum()\n",
        "\n",
        "# Show our work\n",
        "fig, axes = plt.subplots(ncols=2, figsize=(9,3))\n",
        "p_delay.plot(title='P(Delay)', ax=axes[0])\n",
        "p_delay.cumsum().plot(title='P(Delay <= x)', ax=axes[1])\n",
        "for ax in axes:\n",
        "    ax.set_xlabel('days')"
      ],
      "execution_count": 0,
      "outputs": [
        {
          "output_type": "display_data",
          "data": {
            "image/png": "[encoded data removed]",
            "text/plain": [
              "<Figure size 648x216 with 2 Axes>"
            ]
          },
          "metadata": {
            "tags": [],
            "image/png": {
              "width": 546,
              "height": 222
            },
            "needs_background": "light"
          }
        }
      ]
    },
    {
      "cell_type": "markdown",
      "metadata": {
        "id": "6NYj-Nbjs4r_",
        "colab_type": "text"
      },
      "source": [
        "# A single County"
      ]
    },
    {
      "cell_type": "code",
      "metadata": {
        "id": "nK-yocyjs4sA",
        "colab_type": "code",
        "outputId": "d1706558-04e2-4f7f-e754-eb683dc9d7b1",
        "colab": {
          "base_uri": "https://localhost:8080/",
          "height": 257
        }
      },
      "source": [
        "#key = 'Nebraska_Douglas'\n",
        "key = 'NYC_NYC'\n",
        "key = 'NYC_New York City'\n",
        "#key = 'New York_New York City'\n",
        "#key = 'New Jersey_Hudson'\n",
        "confirmed = counties.xs(key).cases.diff().dropna().clip(0) # new cases (not cumulative)\n",
        "confirmed"
      ],
      "execution_count": 0,
      "outputs": [
        {
          "output_type": "execute_result",
          "data": {
            "text/plain": [
              "date\n",
              "2020-03-02       0.0\n",
              "2020-03-03       1.0\n",
              "2020-03-04       0.0\n",
              "2020-03-05       2.0\n",
              "2020-03-06       1.0\n",
              "               ...  \n",
              "2020-05-11     890.0\n",
              "2020-05-12     774.0\n",
              "2020-05-13    1074.0\n",
              "2020-05-14    1269.0\n",
              "2020-05-15    1809.0\n",
              "Name: cases, Length: 75, dtype: float64"
            ]
          },
          "metadata": {
            "tags": []
          },
          "execution_count": 14
        }
      ]
    },
    {
      "cell_type": "markdown",
      "metadata": {
        "id": "vgvLwSJss4sE",
        "colab_type": "text"
      },
      "source": [
        "### Translate Confirmation Dates to Onset Dates\n",
        "\n",
        "Our goal is to translate positive test counts to the dates where they likely occured. Since we have the distribution, we can distribute case counts back in time according to that distribution. To accomplish this, we reverse the case time series, and convolve it using the distribution of delay from onset to confirmation. Then we reverse the series again to obtain the onset curve. Note that this means the data will be 'right censored' which means there are onset cases that have yet to be reported so it looks as if the count has gone down."
      ]
    },
    {
      "cell_type": "code",
      "metadata": {
        "id": "DUfGFQGls4sE",
        "colab_type": "code",
        "colab": {}
      },
      "source": [
        "def confirmed_to_onset(confirmed, p_delay):\n",
        "\n",
        "    assert not confirmed.isna().any()\n",
        "    \n",
        "    # Reverse cases so that we convolve into the past\n",
        "    convolved = np.convolve(confirmed[::-1].values, p_delay)\n",
        "\n",
        "    # Calculate the new date range\n",
        "    dr = pd.date_range(end=confirmed.index[-1],\n",
        "                       periods=len(convolved))\n",
        "\n",
        "    # Flip the values and assign the date range\n",
        "    onset = pd.Series(np.flip(convolved), index=dr)\n",
        "    \n",
        "    return onset\n",
        "\n"
      ],
      "execution_count": 0,
      "outputs": []
    },
    {
      "cell_type": "code",
      "metadata": {
        "id": "t51qqnzCs4sI",
        "colab_type": "code",
        "colab": {}
      },
      "source": [
        "# onset for the selected county\n",
        "onset = confirmed_to_onset(confirmed, p_delay)"
      ],
      "execution_count": 0,
      "outputs": []
    },
    {
      "cell_type": "markdown",
      "metadata": {
        "id": "rTjJ451Rs4sL",
        "colab_type": "text"
      },
      "source": [
        "### Adjust for Right-Censoring\n",
        "\n",
        "Since we distributed observed cases into the past to recreate the onset curve, we now have a right-censored time series. We can correct for that by asking what % of people have a delay less than or equal to the time between the day in question and the current day.\n",
        "\n",
        "For example, 5 days ago, there might have been 100 cases onset. Over the course of the next 5 days some portion of those cases will be reported. This portion is equal to the cumulative distribution function of our delay distribution. If we know that portion is say, 60%, then our current count of onset on that day represents 60% of the total. This implies that the total is 166% higher. We apply this correction to get an idea of what actual onset cases are likely, thus removing the right censoring."
      ]
    },
    {
      "cell_type": "code",
      "metadata": {
        "id": "Iz4rN0lns4sM",
        "colab_type": "code",
        "colab": {}
      },
      "source": [
        "def adjust_onset_for_right_censorship(onset, p_delay):\n",
        "    cumulative_p_delay = p_delay.cumsum()\n",
        "    \n",
        "    # Calculate the additional ones needed so shapes match\n",
        "    ones_needed = len(onset) - len(cumulative_p_delay)\n",
        "    padding_shape = (0, ones_needed)\n",
        "    \n",
        "    # Add ones and flip back\n",
        "    cumulative_p_delay = np.pad(\n",
        "        cumulative_p_delay,\n",
        "        padding_shape,\n",
        "        constant_values=1)\n",
        "    cumulative_p_delay = np.flip(cumulative_p_delay)\n",
        "    \n",
        "    # Adjusts observed onset values to expected terminal onset values\n",
        "    adjusted = onset / cumulative_p_delay\n",
        "    \n",
        "    return adjusted, cumulative_p_delay"
      ],
      "execution_count": 0,
      "outputs": []
    },
    {
      "cell_type": "code",
      "metadata": {
        "id": "2MQElvJXs4sQ",
        "colab_type": "code",
        "colab": {}
      },
      "source": [
        "# adjusted for the selected county\n",
        "adjusted, cumulative_p_delay = adjust_onset_for_right_censorship(onset, p_delay)"
      ],
      "execution_count": 0,
      "outputs": []
    },
    {
      "cell_type": "markdown",
      "metadata": {
        "id": "Nl20w9ZLs4sT",
        "colab_type": "text"
      },
      "source": [
        "Take a look at all three series: confirmed, onset and onset adjusted for right censoring."
      ]
    },
    {
      "cell_type": "code",
      "metadata": {
        "id": "SVSRGktNs4sT",
        "colab_type": "code",
        "outputId": "563f439d-d259-4167-e996-aba4bbe1a604",
        "colab": {
          "base_uri": "https://localhost:8080/",
          "height": 250
        }
      },
      "source": [
        "fig, ax = plt.subplots(figsize=(5,3))\n",
        "\n",
        "confirmed.plot(\n",
        "    ax=ax,\n",
        "    label='Confirmed',\n",
        "    title=key,\n",
        "    c='k',\n",
        "    alpha=.25,\n",
        "    lw=1)\n",
        "\n",
        "onset.plot(\n",
        "    ax=ax,\n",
        "    label='Onset',\n",
        "    c='k',\n",
        "    lw=1)\n",
        "\n",
        "adjusted.plot(\n",
        "    ax=ax,\n",
        "    label='Adjusted Onset',\n",
        "    c='k',\n",
        "    linestyle='--',\n",
        "    lw=1)\n",
        "\n",
        "ax.legend();"
      ],
      "execution_count": 0,
      "outputs": [
        {
          "output_type": "display_data",
          "data": {
            "image/png": "[encoded data removed]",
            "text/plain": [
              "<Figure size 360x216 with 1 Axes>"
            ]
          },
          "metadata": {
            "tags": [],
            "image/png": {
              "width": 326,
              "height": 233
            },
            "needs_background": "light"
          }
        }
      ]
    },
    {
      "cell_type": "markdown",
      "metadata": {
        "id": "8OcYA1ils4sX",
        "colab_type": "text"
      },
      "source": [
        "Let's have the model run on days where we have enough data ~last 50 or so"
      ]
    },
    {
      "cell_type": "markdown",
      "metadata": {
        "id": "xqtSP-vys4sX",
        "colab_type": "text"
      },
      "source": [
        "### Sample the Posterior with PyMC3"
      ]
    },
    {
      "cell_type": "markdown",
      "metadata": {
        "id": "KUoKXo3Es4sY",
        "colab_type": "text"
      },
      "source": [
        "We assume a poisson likelihood function and feed it what we believe is the onset curve based on reported data. We model this onset curve based on the same math in the previous notebook:\n",
        "\n",
        "$$ I^\\prime = Ie^{\\gamma(R_t-1)} $$\n",
        "\n",
        "We define $\\theta = \\gamma(R_t-1)$ and model $ I^\\prime = Ie^{\\theta} $ where $\\theta$ observes a random walk. We let $\\gamma$ vary independently based on known parameters for the serial interval. Therefore, we can recover $R_t$ easily by $R_t = \\frac{\\theta}{\\gamma}+1$\n",
        "\n",
        "The only tricky part is understanding that we're feeding in _onset_ cases to the likelihood. So $\\mu$ of the poisson is the positive, non-zero, expected onset cases we think we'd see today.\n",
        "\n",
        "We calculate this by figuring out how many cases we'd expect there to be yesterday total when adjusted for bias and plugging it into the first equation above. We then have to re-bias this number back down to get the expected amount of onset cases observed that day."
      ]
    },
    {
      "cell_type": "code",
      "metadata": {
        "id": "pjkOgd4-s4sZ",
        "colab_type": "code",
        "colab": {}
      },
      "source": [
        "class MCMCModel(object):\n",
        "    \n",
        "    def __init__(self, region, onset, cumulative_p_delay, window=50):\n",
        "        \n",
        "        # Just for identification purposes\n",
        "        self.region = region\n",
        "        \n",
        "        # For the model, we'll only look at the last N\n",
        "        self.onset = onset.iloc[-window:]\n",
        "        self.cumulative_p_delay = cumulative_p_delay[-window:]\n",
        "        \n",
        "        # Where we store the results\n",
        "        self.trace = None\n",
        "        self.trace_index = self.onset.index[1:]\n",
        "\n",
        "    def run(self, chains=1, tune=3000, draws=1000, target_accept=.95):\n",
        "\n",
        "        with pm.Model() as model:\n",
        "\n",
        "            # Random walk magnitude\n",
        "            step_size = pm.HalfNormal('step_size', sigma=.03)\n",
        "\n",
        "            # Theta random walk\n",
        "            theta_raw_init = pm.Normal('theta_raw_init', 0.1, 0.1)\n",
        "            theta_raw_steps = pm.Normal('theta_raw_steps', shape=len(self.onset)-2) * step_size\n",
        "            theta_raw = tt.concatenate([[theta_raw_init], theta_raw_steps])\n",
        "            theta = pm.Deterministic('theta', theta_raw.cumsum())\n",
        "\n",
        "            # Let the serial interval be a random variable and calculate r_t\n",
        "            serial_interval = pm.Gamma('serial_interval', alpha=6, beta=1.5)\n",
        "            gamma = 1.0 / serial_interval\n",
        "            r_t = pm.Deterministic('r_t', theta/gamma + 1)\n",
        "\n",
        "            inferred_yesterday = self.onset.values[:-1] / self.cumulative_p_delay[:-1]\n",
        "            \n",
        "            expected_today = inferred_yesterday * self.cumulative_p_delay[1:] * pm.math.exp(theta)\n",
        "\n",
        "            # Ensure cases stay above zero for poisson\n",
        "            mu = pm.math.maximum(.1, expected_today)\n",
        "            observed = self.onset.round().values[1:]\n",
        "            cases = pm.Poisson('cases', mu=mu, observed=observed)\n",
        "\n",
        "            self.trace = pm.sample(\n",
        "                chains=chains,\n",
        "                tune=tune,\n",
        "                draws=draws,\n",
        "                target_accept=target_accept)\n",
        "            \n",
        "            return self\n",
        "    \n",
        "    def run_gp(self):\n",
        "        with pm.Model() as model:\n",
        "            gp_shape = len(self.onset) - 1\n",
        "\n",
        "            length_scale = pm.Gamma(\"length_scale\", alpha=3, beta=.4)\n",
        "\n",
        "            eta = .05\n",
        "            cov_func = eta**2 * pm.gp.cov.ExpQuad(1, length_scale)\n",
        "\n",
        "            gp = pm.gp.Latent(mean_func=pm.gp.mean.Constant(c=0), \n",
        "                              cov_func=cov_func)\n",
        "\n",
        "            # Place a GP prior over the function f.\n",
        "            theta = gp.prior(\"theta\", X=np.arange(gp_shape)[:, None])\n",
        "\n",
        "            # Let the serial interval be a random variable and calculate r_t\n",
        "            serial_interval = pm.Gamma('serial_interval', alpha=6, beta=1.5)\n",
        "            gamma = 1.0 / serial_interval\n",
        "            r_t = pm.Deterministic('r_t', theta / gamma + 1)\n",
        "\n",
        "            inferred_yesterday = self.onset.values[:-1] / self.cumulative_p_delay[:-1]\n",
        "            expected_today = inferred_yesterday * self.cumulative_p_delay[1:] * pm.math.exp(theta)\n",
        "\n",
        "            # Ensure cases stay above zero for poisson\n",
        "            mu = pm.math.maximum(.1, expected_today)\n",
        "            observed = self.onset.round().values[1:]\n",
        "            cases = pm.Poisson('cases', mu=mu, observed=observed)\n",
        "\n",
        "            self.trace = pm.sample(chains=1, tune=1000, draws=1000, target_accept=.8)\n",
        "        return self"
      ],
      "execution_count": 0,
      "outputs": []
    },
    {
      "cell_type": "markdown",
      "metadata": {
        "id": "3ZvpQEZJs4sc",
        "colab_type": "text"
      },
      "source": [
        "### Run Pymc3 Model"
      ]
    },
    {
      "cell_type": "code",
      "metadata": {
        "id": "fYfWADeAs4sd",
        "colab_type": "code",
        "colab": {}
      },
      "source": [
        "def df_from_model(model):\n",
        "    \n",
        "    r_t = model.trace['r_t']\n",
        "    mean = np.mean(r_t, axis=0)\n",
        "    median = np.median(r_t, axis=0)\n",
        "    hpd_90 = pm.stats.hpd(r_t, credible_interval=.9)\n",
        "    hpd_50 = pm.stats.hpd(r_t, credible_interval=.5)\n",
        "    \n",
        "    idx = pd.MultiIndex.from_product([\n",
        "            [model.region],\n",
        "            model.trace_index\n",
        "        ], names=['region', 'date'])\n",
        "        \n",
        "    df = pd.DataFrame(data=np.c_[mean, median, hpd_90, hpd_50], index=idx,\n",
        "                 columns=['mean', 'median', 'lower_90', 'upper_90', 'lower_50','upper_50'])\n",
        "    return df"
      ],
      "execution_count": 0,
      "outputs": []
    },
    {
      "cell_type": "code",
      "metadata": {
        "id": "3qALVoeus4sg",
        "colab_type": "code",
        "colab": {}
      },
      "source": [
        "def create_and_run_model_counties(name, county):\n",
        "    confirmed = county.cases.diff().dropna().clip(0) # new cases (not cumulative)\n",
        "    onset = confirmed_to_onset(confirmed, p_delay)\n",
        "    adjusted, cumulative_p_delay = adjust_onset_for_right_censorship(onset, p_delay)\n",
        "    return MCMCModel(name, onset, cumulative_p_delay).run()"
      ],
      "execution_count": 0,
      "outputs": []
    },
    {
      "cell_type": "code",
      "metadata": {
        "id": "W1haTZM5s4sk",
        "colab_type": "code",
        "outputId": "b95c351b-c5e9-4734-c435-5a902edb655a",
        "colab": {
          "base_uri": "https://localhost:8080/",
          "height": 54
        }
      },
      "source": [
        "print(counties[counties.state== 'NYC']['county'].unique())\n",
        "#print(counties[counties.state== 'New York']['county'].unique())\n",
        "#print(counties[counties.state== 'New Jersey']['county'].unique())"
      ],
      "execution_count": 0,
      "outputs": [
        {
          "output_type": "stream",
          "text": [
            "['Bronx County' 'Kings County' 'New York County' 'Queens County'\n",
            " 'Richmond County' 'NYC' 'New York City']\n"
          ],
          "name": "stdout"
        }
      ]
    },
    {
      "cell_type": "code",
      "metadata": {
        "id": "YJ8DOUlNs4so",
        "colab_type": "code",
        "outputId": "6ce0f1be-5363-416c-867b-a802b46cc62c",
        "colab": {
          "base_uri": "https://localhost:8080/",
          "height": 978
        }
      },
      "source": [
        "models = {}\n",
        "for state_county, grp in counties[counties['state']=='NYC'].groupby(level='key'): # only the selected state\n",
        "#for state_county, grp in counties.groupby(level='key'): # all counties all states\n",
        "\n",
        "    print(state_county)\n",
        "    #print(grp.droplevel(0))\n",
        "    if state_county in models:\n",
        "        print(f'Skipping {state_county}, already in cache')\n",
        "        continue\n",
        "    models[state_county] = create_and_run_model_counties(state_county,grp.droplevel(0))"
      ],
      "execution_count": 0,
      "outputs": [
        {
          "output_type": "stream",
          "text": [
            "NYC_Bronx County\n"
          ],
          "name": "stdout"
        },
        {
          "output_type": "stream",
          "text": [
            "Auto-assigning NUTS sampler...\n",
            "Initializing NUTS using jitter+adapt_diag...\n",
            "Sequential sampling (1 chains in 1 job)\n",
            "NUTS: [serial_interval, theta_raw_steps, theta_raw_init, step_size]\n",
            "Sampling chain 0, 0 divergences: 100%|██████████| 4000/4000 [00:25<00:00, 154.74it/s]\n",
            "Only one chain was sampled, this makes it impossible to run some convergence checks\n"
          ],
          "name": "stderr"
        },
        {
          "output_type": "stream",
          "text": [
            "NYC_Kings County\n"
          ],
          "name": "stdout"
        },
        {
          "output_type": "stream",
          "text": [
            "Auto-assigning NUTS sampler...\n",
            "Initializing NUTS using jitter+adapt_diag...\n",
            "Sequential sampling (1 chains in 1 job)\n",
            "NUTS: [serial_interval, theta_raw_steps, theta_raw_init, step_size]\n",
            "Sampling chain 0, 0 divergences: 100%|██████████| 4000/4000 [00:25<00:00, 155.13it/s]\n",
            "Only one chain was sampled, this makes it impossible to run some convergence checks\n"
          ],
          "name": "stderr"
        },
        {
          "output_type": "stream",
          "text": [
            "NYC_NYC\n"
          ],
          "name": "stdout"
        },
        {
          "output_type": "stream",
          "text": [
            "Auto-assigning NUTS sampler...\n",
            "Initializing NUTS using jitter+adapt_diag...\n",
            "Sequential sampling (1 chains in 1 job)\n",
            "NUTS: [serial_interval, theta_raw_steps, theta_raw_init, step_size]\n",
            "Sampling chain 0, 0 divergences: 100%|██████████| 4000/4000 [01:46<00:00, 37.52it/s]\n",
            "Only one chain was sampled, this makes it impossible to run some convergence checks\n"
          ],
          "name": "stderr"
        },
        {
          "output_type": "stream",
          "text": [
            "NYC_New York City\n"
          ],
          "name": "stdout"
        },
        {
          "output_type": "stream",
          "text": [
            "Auto-assigning NUTS sampler...\n",
            "Initializing NUTS using jitter+adapt_diag...\n",
            "Sequential sampling (1 chains in 1 job)\n",
            "NUTS: [serial_interval, theta_raw_steps, theta_raw_init, step_size]\n",
            "Sampling chain 0, 0 divergences: 100%|██████████| 4000/4000 [00:44<00:00, 90.56it/s] \n",
            "Only one chain was sampled, this makes it impossible to run some convergence checks\n"
          ],
          "name": "stderr"
        },
        {
          "output_type": "stream",
          "text": [
            "NYC_New York County\n"
          ],
          "name": "stdout"
        },
        {
          "output_type": "stream",
          "text": [
            "Auto-assigning NUTS sampler...\n",
            "Initializing NUTS using jitter+adapt_diag...\n",
            "Sequential sampling (1 chains in 1 job)\n",
            "NUTS: [serial_interval, theta_raw_steps, theta_raw_init, step_size]\n",
            "Sampling chain 0, 0 divergences: 100%|██████████| 4000/4000 [00:24<00:00, 163.59it/s]\n",
            "Only one chain was sampled, this makes it impossible to run some convergence checks\n"
          ],
          "name": "stderr"
        },
        {
          "output_type": "stream",
          "text": [
            "NYC_Queens County\n"
          ],
          "name": "stdout"
        },
        {
          "output_type": "stream",
          "text": [
            "Auto-assigning NUTS sampler...\n",
            "Initializing NUTS using jitter+adapt_diag...\n",
            "Sequential sampling (1 chains in 1 job)\n",
            "NUTS: [serial_interval, theta_raw_steps, theta_raw_init, step_size]\n",
            "Sampling chain 0, 0 divergences: 100%|██████████| 4000/4000 [00:24<00:00, 160.95it/s]\n",
            "Only one chain was sampled, this makes it impossible to run some convergence checks\n"
          ],
          "name": "stderr"
        },
        {
          "output_type": "stream",
          "text": [
            "NYC_Richmond County\n"
          ],
          "name": "stdout"
        },
        {
          "output_type": "stream",
          "text": [
            "Auto-assigning NUTS sampler...\n",
            "Initializing NUTS using jitter+adapt_diag...\n",
            "Sequential sampling (1 chains in 1 job)\n",
            "NUTS: [serial_interval, theta_raw_steps, theta_raw_init, step_size]\n",
            "Sampling chain 0, 2 divergences: 100%|██████████| 4000/4000 [00:23<00:00, 171.38it/s]\n",
            "There were 2 divergences after tuning. Increase `target_accept` or reparameterize.\n",
            "The acceptance probability does not match the target. It is 0.8176965358474575, but should be close to 0.95. Try to increase the number of tuning steps.\n",
            "Only one chain was sampled, this makes it impossible to run some convergence checks\n"
          ],
          "name": "stderr"
        }
      ]
    },
    {
      "cell_type": "markdown",
      "metadata": {
        "id": "0S1g39JCs4ss",
        "colab_type": "text"
      },
      "source": [
        "### Handle Divergences"
      ]
    },
    {
      "cell_type": "code",
      "metadata": {
        "id": "eaoefIKZs4ss",
        "colab_type": "code",
        "outputId": "4ef1853f-43bc-4fe3-ed7c-d16deb813e97",
        "colab": {
          "base_uri": "https://localhost:8080/",
          "height": 183
        }
      },
      "source": [
        "# Check to see if there were divergences\n",
        "n_diverging = lambda x: x.trace['diverging'].nonzero()[0].size\n",
        "divergences = pd.Series([n_diverging(m) for m in models.values()], index=models.keys())\n",
        "has_divergences = divergences.gt(0)\n",
        "\n",
        "print('Diverging states:')\n",
        "display(divergences[has_divergences])\n",
        "\n",
        "# Rerun states with divergences\n",
        "for state, n_divergences in divergences[has_divergences].items():\n",
        "    models[state].run()"
      ],
      "execution_count": 0,
      "outputs": [
        {
          "output_type": "stream",
          "text": [
            "Diverging states:\n"
          ],
          "name": "stdout"
        },
        {
          "output_type": "display_data",
          "data": {
            "text/plain": [
              "NYC_Richmond County    2\n",
              "dtype: int64"
            ]
          },
          "metadata": {
            "tags": []
          }
        },
        {
          "output_type": "stream",
          "text": [
            "Auto-assigning NUTS sampler...\n",
            "Initializing NUTS using jitter+adapt_diag...\n",
            "Sequential sampling (1 chains in 1 job)\n",
            "NUTS: [serial_interval, theta_raw_steps, theta_raw_init, step_size]\n",
            "Sampling chain 0, 0 divergences: 100%|██████████| 4000/4000 [00:22<00:00, 177.11it/s]\n",
            "Only one chain was sampled, this makes it impossible to run some convergence checks\n"
          ],
          "name": "stderr"
        }
      ]
    },
    {
      "cell_type": "markdown",
      "metadata": {
        "id": "Xma5cPyxs4sv",
        "colab_type": "text"
      },
      "source": [
        "## Compile Results"
      ]
    },
    {
      "cell_type": "code",
      "metadata": {
        "id": "euowe7OJs4sw",
        "colab_type": "code",
        "colab": {}
      },
      "source": [
        "results = None\n",
        "\n",
        "for state_county, model in models.items():\n",
        "\n",
        "    df = df_from_model(model)\n",
        "\n",
        "    if results is None:\n",
        "        results = df\n",
        "    else:\n",
        "        results = pd.concat([results, df], axis=0)"
      ],
      "execution_count": 0,
      "outputs": []
    },
    {
      "cell_type": "code",
      "metadata": {
        "id": "XCBGvQt_s4sz",
        "colab_type": "code",
        "outputId": "fc6be67e-d9fa-430c-fa5f-cc1efbe7f101",
        "colab": {
          "base_uri": "https://localhost:8080/",
          "height": 447
        }
      },
      "source": [
        "results"
      ],
      "execution_count": 0,
      "outputs": [
        {
          "output_type": "execute_result",
          "data": {
            "text/html": [
              "<div>\n",
              "<style scoped>\n",
              "    .dataframe tbody tr th:only-of-type {\n",
              "        vertical-align: middle;\n",
              "    }\n",
              "\n",
              "    .dataframe tbody tr th {\n",
              "        vertical-align: top;\n",
              "    }\n",
              "\n",
              "    .dataframe thead th {\n",
              "        text-align: right;\n",
              "    }\n",
              "</style>\n",
              "<table border=\"1\" class=\"dataframe\">\n",
              "  <thead>\n",
              "    <tr style=\"text-align: right;\">\n",
              "      <th></th>\n",
              "      <th></th>\n",
              "      <th>mean</th>\n",
              "      <th>median</th>\n",
              "      <th>lower_90</th>\n",
              "      <th>upper_90</th>\n",
              "      <th>lower_50</th>\n",
              "      <th>upper_50</th>\n",
              "    </tr>\n",
              "    <tr>\n",
              "      <th>region</th>\n",
              "      <th>date</th>\n",
              "      <th></th>\n",
              "      <th></th>\n",
              "      <th></th>\n",
              "      <th></th>\n",
              "      <th></th>\n",
              "      <th></th>\n",
              "    </tr>\n",
              "  </thead>\n",
              "  <tbody>\n",
              "    <tr>\n",
              "      <th rowspan=\"5\" valign=\"top\">NYC_Bronx County</th>\n",
              "      <th>2020-03-29</th>\n",
              "      <td>1.061379</td>\n",
              "      <td>1.051523</td>\n",
              "      <td>0.935316</td>\n",
              "      <td>1.175313</td>\n",
              "      <td>0.996495</td>\n",
              "      <td>1.084367</td>\n",
              "    </tr>\n",
              "    <tr>\n",
              "      <th>2020-03-30</th>\n",
              "      <td>1.047469</td>\n",
              "      <td>1.041244</td>\n",
              "      <td>0.947281</td>\n",
              "      <td>1.148274</td>\n",
              "      <td>0.992887</td>\n",
              "      <td>1.066721</td>\n",
              "    </tr>\n",
              "    <tr>\n",
              "      <th>2020-03-31</th>\n",
              "      <td>1.031196</td>\n",
              "      <td>1.027109</td>\n",
              "      <td>0.934322</td>\n",
              "      <td>1.121856</td>\n",
              "      <td>0.984759</td>\n",
              "      <td>1.050503</td>\n",
              "    </tr>\n",
              "    <tr>\n",
              "      <th>2020-04-01</th>\n",
              "      <td>1.011881</td>\n",
              "      <td>1.008668</td>\n",
              "      <td>0.920906</td>\n",
              "      <td>1.096719</td>\n",
              "      <td>0.985068</td>\n",
              "      <td>1.043536</td>\n",
              "    </tr>\n",
              "    <tr>\n",
              "      <th>2020-04-02</th>\n",
              "      <td>0.992309</td>\n",
              "      <td>0.994517</td>\n",
              "      <td>0.911011</td>\n",
              "      <td>1.090486</td>\n",
              "      <td>0.962436</td>\n",
              "      <td>1.019450</td>\n",
              "    </tr>\n",
              "    <tr>\n",
              "      <th>...</th>\n",
              "      <th>...</th>\n",
              "      <td>...</td>\n",
              "      <td>...</td>\n",
              "      <td>...</td>\n",
              "      <td>...</td>\n",
              "      <td>...</td>\n",
              "      <td>...</td>\n",
              "    </tr>\n",
              "    <tr>\n",
              "      <th rowspan=\"5\" valign=\"top\">NYC_Richmond County</th>\n",
              "      <th>2020-05-12</th>\n",
              "      <td>0.816161</td>\n",
              "      <td>0.826021</td>\n",
              "      <td>0.477263</td>\n",
              "      <td>1.120422</td>\n",
              "      <td>0.767628</td>\n",
              "      <td>0.979830</td>\n",
              "    </tr>\n",
              "    <tr>\n",
              "      <th>2020-05-13</th>\n",
              "      <td>0.815771</td>\n",
              "      <td>0.827908</td>\n",
              "      <td>0.463433</td>\n",
              "      <td>1.114733</td>\n",
              "      <td>0.738647</td>\n",
              "      <td>0.954473</td>\n",
              "    </tr>\n",
              "    <tr>\n",
              "      <th>2020-05-14</th>\n",
              "      <td>0.814831</td>\n",
              "      <td>0.831079</td>\n",
              "      <td>0.444925</td>\n",
              "      <td>1.114032</td>\n",
              "      <td>0.738956</td>\n",
              "      <td>0.961750</td>\n",
              "    </tr>\n",
              "    <tr>\n",
              "      <th>2020-05-15</th>\n",
              "      <td>0.815153</td>\n",
              "      <td>0.833670</td>\n",
              "      <td>0.478553</td>\n",
              "      <td>1.174685</td>\n",
              "      <td>0.714081</td>\n",
              "      <td>0.963404</td>\n",
              "    </tr>\n",
              "    <tr>\n",
              "      <th>2020-05-16</th>\n",
              "      <td>0.816545</td>\n",
              "      <td>0.830692</td>\n",
              "      <td>0.436923</td>\n",
              "      <td>1.189112</td>\n",
              "      <td>0.696318</td>\n",
              "      <td>0.954377</td>\n",
              "    </tr>\n",
              "  </tbody>\n",
              "</table>\n",
              "<p>343 rows × 6 columns</p>\n",
              "</div>"
            ],
            "text/plain": [
              "                                    mean    median  ...  lower_50  upper_50\n",
              "region              date                            ...                    \n",
              "NYC_Bronx County    2020-03-29  1.061379  1.051523  ...  0.996495  1.084367\n",
              "                    2020-03-30  1.047469  1.041244  ...  0.992887  1.066721\n",
              "                    2020-03-31  1.031196  1.027109  ...  0.984759  1.050503\n",
              "                    2020-04-01  1.011881  1.008668  ...  0.985068  1.043536\n",
              "                    2020-04-02  0.992309  0.994517  ...  0.962436  1.019450\n",
              "...                                  ...       ...  ...       ...       ...\n",
              "NYC_Richmond County 2020-05-12  0.816161  0.826021  ...  0.767628  0.979830\n",
              "                    2020-05-13  0.815771  0.827908  ...  0.738647  0.954473\n",
              "                    2020-05-14  0.814831  0.831079  ...  0.738956  0.961750\n",
              "                    2020-05-15  0.815153  0.833670  ...  0.714081  0.963404\n",
              "                    2020-05-16  0.816545  0.830692  ...  0.696318  0.954377\n",
              "\n",
              "[343 rows x 6 columns]"
            ]
          },
          "metadata": {
            "tags": []
          },
          "execution_count": 27
        }
      ]
    },
    {
      "cell_type": "markdown",
      "metadata": {
        "id": "F3Xy14Mjs4s2",
        "colab_type": "text"
      },
      "source": [
        "### Render to CSV"
      ]
    },
    {
      "cell_type": "code",
      "metadata": {
        "id": "7XnSuNc8Km2w",
        "colab_type": "code",
        "outputId": "200d40ed-037b-4bbb-b547-050c6b63ff01",
        "colab": {
          "base_uri": "https://localhost:8080/",
          "height": 388
        }
      },
      "source": [
        "!pip install ckanapi"
      ],
      "execution_count": 0,
      "outputs": [
        {
          "output_type": "stream",
          "text": [
            "Collecting ckanapi\n",
            "  Downloading https://files.pythonhosted.org/packages/07/c6/50449e18aaf1600dfda955805c58aa7462493511f3ebbb20d0a65874397c/ckanapi-4.3.tar.gz\n",
            "Requirement already satisfied: setuptools in /usr/local/lib/python3.6/dist-packages (from ckanapi) (46.3.0)\n",
            "Requirement already satisfied: docopt in /usr/local/lib/python3.6/dist-packages (from ckanapi) (0.6.2)\n",
            "Requirement already satisfied: requests in /usr/local/lib/python3.6/dist-packages (from ckanapi) (2.23.0)\n",
            "Requirement already satisfied: python-slugify>=1.0 in /usr/local/lib/python3.6/dist-packages (from ckanapi) (4.0.0)\n",
            "Requirement already satisfied: six<2.0,>=1.9 in /usr/local/lib/python3.6/dist-packages (from ckanapi) (1.12.0)\n",
            "Requirement already satisfied: urllib3!=1.25.0,!=1.25.1,<1.26,>=1.21.1 in /usr/local/lib/python3.6/dist-packages (from requests->ckanapi) (1.24.3)\n",
            "Requirement already satisfied: certifi>=2017.4.17 in /usr/local/lib/python3.6/dist-packages (from requests->ckanapi) (2020.4.5.1)\n",
            "Requirement already satisfied: idna<3,>=2.5 in /usr/local/lib/python3.6/dist-packages (from requests->ckanapi) (2.9)\n",
            "Requirement already satisfied: chardet<4,>=3.0.2 in /usr/local/lib/python3.6/dist-packages (from requests->ckanapi) (3.0.4)\n",
            "Requirement already satisfied: text-unidecode>=1.3 in /usr/local/lib/python3.6/dist-packages (from python-slugify>=1.0->ckanapi) (1.3)\n",
            "Building wheels for collected packages: ckanapi\n",
            "  Building wheel for ckanapi (setup.py) ... \u001b[?25l\u001b[?25hdone\n",
            "  Created wheel for ckanapi: filename=ckanapi-4.3-cp36-none-any.whl size=38647 sha256=7386e673e4632f06bee1b28edcf6729a59e61b0111092de5a95282d8d06122a3\n",
            "  Stored in directory: /root/.cache/pip/wheels/41/f2/fb/c8ce857007de64cc6b36b8f1048272396bc0817c35ee3a3e73\n",
            "Successfully built ckanapi\n",
            "Installing collected packages: ckanapi\n",
            "Successfully installed ckanapi-4.3\n"
          ],
          "name": "stdout"
        }
      ]
    },
    {
      "cell_type": "code",
      "metadata": {
        "id": "9NpTuK8kbFBX",
        "colab_type": "code",
        "outputId": "dffe100a-94d6-4342-8ad8-bea6d94ea0a0",
        "colab": {
          "base_uri": "https://localhost:8080/",
          "height": 416
        }
      },
      "source": [
        "# New York City\n",
        "resultscsv=results.reset_index()\n",
        "resultscsv.drop(resultscsv[resultscsv['region'] == 'NYC_NYC'].index, inplace=True)\n",
        "\n",
        "resultscsv['region']= resultscsv['region'].str.replace(\"NYC_\", \"\", case = False) \n",
        "resultscsv.rename(columns={\"region\": \"county\"}, inplace=True)\n",
        "\n",
        "resultscsv"
      ],
      "execution_count": 0,
      "outputs": [
        {
          "output_type": "execute_result",
          "data": {
            "text/html": [
              "<div>\n",
              "<style scoped>\n",
              "    .dataframe tbody tr th:only-of-type {\n",
              "        vertical-align: middle;\n",
              "    }\n",
              "\n",
              "    .dataframe tbody tr th {\n",
              "        vertical-align: top;\n",
              "    }\n",
              "\n",
              "    .dataframe thead th {\n",
              "        text-align: right;\n",
              "    }\n",
              "</style>\n",
              "<table border=\"1\" class=\"dataframe\">\n",
              "  <thead>\n",
              "    <tr style=\"text-align: right;\">\n",
              "      <th></th>\n",
              "      <th>county</th>\n",
              "      <th>date</th>\n",
              "      <th>mean</th>\n",
              "      <th>median</th>\n",
              "      <th>lower_90</th>\n",
              "      <th>upper_90</th>\n",
              "      <th>lower_50</th>\n",
              "      <th>upper_50</th>\n",
              "    </tr>\n",
              "  </thead>\n",
              "  <tbody>\n",
              "    <tr>\n",
              "      <th>0</th>\n",
              "      <td>Bronx County</td>\n",
              "      <td>2020-03-29</td>\n",
              "      <td>1.061379</td>\n",
              "      <td>1.051523</td>\n",
              "      <td>0.935316</td>\n",
              "      <td>1.175313</td>\n",
              "      <td>0.996495</td>\n",
              "      <td>1.084367</td>\n",
              "    </tr>\n",
              "    <tr>\n",
              "      <th>1</th>\n",
              "      <td>Bronx County</td>\n",
              "      <td>2020-03-30</td>\n",
              "      <td>1.047469</td>\n",
              "      <td>1.041244</td>\n",
              "      <td>0.947281</td>\n",
              "      <td>1.148274</td>\n",
              "      <td>0.992887</td>\n",
              "      <td>1.066721</td>\n",
              "    </tr>\n",
              "    <tr>\n",
              "      <th>2</th>\n",
              "      <td>Bronx County</td>\n",
              "      <td>2020-03-31</td>\n",
              "      <td>1.031196</td>\n",
              "      <td>1.027109</td>\n",
              "      <td>0.934322</td>\n",
              "      <td>1.121856</td>\n",
              "      <td>0.984759</td>\n",
              "      <td>1.050503</td>\n",
              "    </tr>\n",
              "    <tr>\n",
              "      <th>3</th>\n",
              "      <td>Bronx County</td>\n",
              "      <td>2020-04-01</td>\n",
              "      <td>1.011881</td>\n",
              "      <td>1.008668</td>\n",
              "      <td>0.920906</td>\n",
              "      <td>1.096719</td>\n",
              "      <td>0.985068</td>\n",
              "      <td>1.043536</td>\n",
              "    </tr>\n",
              "    <tr>\n",
              "      <th>4</th>\n",
              "      <td>Bronx County</td>\n",
              "      <td>2020-04-02</td>\n",
              "      <td>0.992309</td>\n",
              "      <td>0.994517</td>\n",
              "      <td>0.911011</td>\n",
              "      <td>1.090486</td>\n",
              "      <td>0.962436</td>\n",
              "      <td>1.019450</td>\n",
              "    </tr>\n",
              "    <tr>\n",
              "      <th>...</th>\n",
              "      <td>...</td>\n",
              "      <td>...</td>\n",
              "      <td>...</td>\n",
              "      <td>...</td>\n",
              "      <td>...</td>\n",
              "      <td>...</td>\n",
              "      <td>...</td>\n",
              "      <td>...</td>\n",
              "    </tr>\n",
              "    <tr>\n",
              "      <th>338</th>\n",
              "      <td>Richmond County</td>\n",
              "      <td>2020-05-12</td>\n",
              "      <td>0.816161</td>\n",
              "      <td>0.826021</td>\n",
              "      <td>0.477263</td>\n",
              "      <td>1.120422</td>\n",
              "      <td>0.767628</td>\n",
              "      <td>0.979830</td>\n",
              "    </tr>\n",
              "    <tr>\n",
              "      <th>339</th>\n",
              "      <td>Richmond County</td>\n",
              "      <td>2020-05-13</td>\n",
              "      <td>0.815771</td>\n",
              "      <td>0.827908</td>\n",
              "      <td>0.463433</td>\n",
              "      <td>1.114733</td>\n",
              "      <td>0.738647</td>\n",
              "      <td>0.954473</td>\n",
              "    </tr>\n",
              "    <tr>\n",
              "      <th>340</th>\n",
              "      <td>Richmond County</td>\n",
              "      <td>2020-05-14</td>\n",
              "      <td>0.814831</td>\n",
              "      <td>0.831079</td>\n",
              "      <td>0.444925</td>\n",
              "      <td>1.114032</td>\n",
              "      <td>0.738956</td>\n",
              "      <td>0.961750</td>\n",
              "    </tr>\n",
              "    <tr>\n",
              "      <th>341</th>\n",
              "      <td>Richmond County</td>\n",
              "      <td>2020-05-15</td>\n",
              "      <td>0.815153</td>\n",
              "      <td>0.833670</td>\n",
              "      <td>0.478553</td>\n",
              "      <td>1.174685</td>\n",
              "      <td>0.714081</td>\n",
              "      <td>0.963404</td>\n",
              "    </tr>\n",
              "    <tr>\n",
              "      <th>342</th>\n",
              "      <td>Richmond County</td>\n",
              "      <td>2020-05-16</td>\n",
              "      <td>0.816545</td>\n",
              "      <td>0.830692</td>\n",
              "      <td>0.436923</td>\n",
              "      <td>1.189112</td>\n",
              "      <td>0.696318</td>\n",
              "      <td>0.954377</td>\n",
              "    </tr>\n",
              "  </tbody>\n",
              "</table>\n",
              "<p>294 rows × 8 columns</p>\n",
              "</div>"
            ],
            "text/plain": [
              "              county       date      mean  ...  upper_90  lower_50  upper_50\n",
              "0       Bronx County 2020-03-29  1.061379  ...  1.175313  0.996495  1.084367\n",
              "1       Bronx County 2020-03-30  1.047469  ...  1.148274  0.992887  1.066721\n",
              "2       Bronx County 2020-03-31  1.031196  ...  1.121856  0.984759  1.050503\n",
              "3       Bronx County 2020-04-01  1.011881  ...  1.096719  0.985068  1.043536\n",
              "4       Bronx County 2020-04-02  0.992309  ...  1.090486  0.962436  1.019450\n",
              "..               ...        ...       ...  ...       ...       ...       ...\n",
              "338  Richmond County 2020-05-12  0.816161  ...  1.120422  0.767628  0.979830\n",
              "339  Richmond County 2020-05-13  0.815771  ...  1.114733  0.738647  0.954473\n",
              "340  Richmond County 2020-05-14  0.814831  ...  1.114032  0.738956  0.961750\n",
              "341  Richmond County 2020-05-15  0.815153  ...  1.174685  0.714081  0.963404\n",
              "342  Richmond County 2020-05-16  0.816545  ...  1.189112  0.696318  0.954377\n",
              "\n",
              "[294 rows x 8 columns]"
            ]
          },
          "metadata": {
            "tags": []
          },
          "execution_count": 29
        }
      ]
    },
    {
      "cell_type": "code",
      "metadata": {
        "id": "o_WUcBIFynGy",
        "colab_type": "code",
        "outputId": "f9c46782-0379-4b16-fa4e-0655ee6e34f9",
        "colab": {
          "base_uri": "https://localhost:8080/",
          "height": 35
        }
      },
      "source": [
        "maxdate = resultscsv['date'].max().strftime('%Y-%m-%d')\n",
        "maxdate"
      ],
      "execution_count": 0,
      "outputs": [
        {
          "output_type": "execute_result",
          "data": {
            "text/plain": [
              "'2020-05-16'"
            ]
          },
          "metadata": {
            "tags": []
          },
          "execution_count": 30
        }
      ]
    },
    {
      "cell_type": "code",
      "metadata": {
        "id": "HiBxkmhCs4s3",
        "colab_type": "code",
        "colab": {}
      },
      "source": [
        "os.makedirs(os.path.dirname('results/'), exist_ok=True)\n",
        "resultscsv.to_csv('results/rt_mcmc_nyc.csv', index=False)\n",
        "#resultscsv.to_csv('results/rt_mcmc_nj.csv', index=False)"
      ],
      "execution_count": 0,
      "outputs": []
    },
    {
      "cell_type": "code",
      "metadata": {
        "id": "5ylr6TviLNqA",
        "colab_type": "code",
        "colab": {}
      },
      "source": [
        "from ckanapi import RemoteCKAN\n",
        "ua = 'ckanapi/4.3 (+https://data.beta.nyc)'\n",
        "\n",
        "ckan = RemoteCKAN('https://data.beta.nyc', user_agent=ua,\n",
        "                        apikey='55369753-0071-41e3-9c90-20432a12af3c')\n",
        "#groups = dataportal.action.group_list(id='data-explorer')\n",
        "#groups"
      ],
      "execution_count": 0,
      "outputs": []
    },
    {
      "cell_type": "code",
      "metadata": {
        "id": "WWtVmPbIYVAV",
        "colab_type": "code",
        "outputId": "dae31be6-d19f-4045-d85a-b2cfb065a500",
        "colab": {
          "base_uri": "https://localhost:8080/",
          "height": 425
        }
      },
      "source": [
        "#NYC\n",
        "payload = {'description': 'COVID-19 Rt for NYC as of ' + maxdate + ' using https://rt.live Apr 26 mcmc model',\n",
        " 'format': 'csv',\n",
        " 'id': u'e38f973d-afe0-4589-8416-e0ff8b9b8194',\n",
        " 'mimetype': 'application/csv',\n",
        " 'name': 'rt_mcmc_nyc.csv',\n",
        " 'package_id': 'nyc-rt-effective-reproduction-number',\n",
        " 'upload': open('results/rt_mcmc_nyc.csv', 'rb')}\n",
        "\n",
        "ckan.action.resource_update(**payload)"
      ],
      "execution_count": 0,
      "outputs": [
        {
          "output_type": "execute_result",
          "data": {
            "text/plain": [
              "{'cache_last_updated': None,\n",
              " 'cache_url': None,\n",
              " 'created': '2020-05-06T12:09:53.828897',\n",
              " 'datastore_active': True,\n",
              " 'datastore_contains_all_records_of_source_file': 'False',\n",
              " 'description': 'COVID-19 Rt for NYC as of 2020-05-16 using https://rt.live Apr 26 mcmc model',\n",
              " 'format': 'CSV',\n",
              " 'hash': '',\n",
              " 'id': 'e38f973d-afe0-4589-8416-e0ff8b9b8194',\n",
              " 'last_modified': None,\n",
              " 'mimetype': 'application/csv',\n",
              " 'mimetype_inner': None,\n",
              " 'name': 'rt_mcmc_nyc.csv',\n",
              " 'package_id': 'd5e37417-ac09-4974-9d22-9d816146ee95',\n",
              " 'position': 0,\n",
              " 'resource_type': None,\n",
              " 'revision_id': '8803fc70-1e72-408e-b27a-85b1158ad8a6',\n",
              " 'size': 41829,\n",
              " 'state': 'active',\n",
              " 'url': 'https://data.beta.nyc/dataset/d5e37417-ac09-4974-9d22-9d816146ee95/resource/e38f973d-afe0-4589-8416-e0ff8b9b8194/download/rt_mcmc_nyc.csv',\n",
              " 'url_type': 'upload'}"
            ]
          },
          "metadata": {
            "tags": []
          },
          "execution_count": 33
        }
      ]
    },
    {
      "cell_type": "code",
      "metadata": {
        "id": "LL2reN7rxY5M",
        "colab_type": "code",
        "colab": {}
      },
      "source": [
        "ckan.close()"
      ],
      "execution_count": 0,
      "outputs": []
    },
    {
      "cell_type": "markdown",
      "metadata": {
        "id": "JBVVQ_Wrs4s6",
        "colab_type": "text"
      },
      "source": [
        "### Render Charts"
      ]
    },
    {
      "cell_type": "code",
      "metadata": {
        "id": "0qEsuyQZs4s7",
        "colab_type": "code",
        "colab": {}
      },
      "source": [
        "def plot_rt(name, result, ax, c=(.3,.3,.3,1), ci=(0,0,0,.05)):\n",
        "    ax.set_ylim(-1, 2) # change y-axis limits\n",
        "    ax.set_title(name)\n",
        "    ax.plot(result['median'],\n",
        "            marker='o',\n",
        "            markersize=4,\n",
        "            markerfacecolor='w',\n",
        "            lw=1,\n",
        "            c=c,\n",
        "            markevery=2)\n",
        "    ax.fill_between(\n",
        "        result.index,\n",
        "        result['lower_50'].values,\n",
        "        result['upper_50'].values,\n",
        "        color=ci,\n",
        "        lw=0)\n",
        "    ax.axhline(1.0, linestyle=':', lw=1)\n",
        "    \n",
        "    ax.xaxis.set_major_formatter(mdates.DateFormatter('%m/%d'))\n",
        "    ax.xaxis.set_major_locator(mdates.WeekdayLocator(interval=2))"
      ],
      "execution_count": 0,
      "outputs": []
    },
    {
      "cell_type": "code",
      "metadata": {
        "scrolled": false,
        "id": "4ZZ8tDPDs4s-",
        "colab_type": "code",
        "outputId": "9b15cceb-37fc-449c-f0eb-e3cea29d6495",
        "colab": {
          "base_uri": "https://localhost:8080/",
          "height": 440
        }
      },
      "source": [
        "ncols = 4\n",
        "nrows = int(np.ceil(results.index.levels[0].shape[0] / ncols))\n",
        "\n",
        "fig, axes = plt.subplots(\n",
        "    nrows=nrows,\n",
        "    ncols=ncols,\n",
        "    figsize=(14, nrows*3),\n",
        "    sharey='row')\n",
        "\n",
        "for ax, (state, result) in zip(axes.flat, results.groupby('region')):\n",
        "    plot_rt(state, result.droplevel(0), ax)\n",
        "\n",
        "fig.tight_layout()\n",
        "fig.set_facecolor('w')"
      ],
      "execution_count": 0,
      "outputs": [
        {
          "output_type": "display_data",
          "data": {
            "image/png": "[encoded data removed]",
            "text/plain": [
              "<Figure size 1008x432 with 8 Axes>"
            ]
          },
          "metadata": {
            "tags": [],
            "image/png": {
              "width": 1000,
              "height": 423
            }
          }
        }
      ]
    },
    {
      "cell_type": "code",
      "metadata": {
        "id": "UlnxRt7Ps4tB",
        "colab_type": "code",
        "colab": {}
      },
      "source": [
        ""
      ],
      "execution_count": 0,
      "outputs": []
    }
  ]
}